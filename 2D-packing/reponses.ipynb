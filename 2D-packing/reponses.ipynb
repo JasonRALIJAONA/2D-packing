{
 "cells": [
  {
   "cell_type": "markdown",
   "metadata": {},
   "source": [
    "DEFINITIONS:\n",
    "\n",
    "• Next-Fit Decreasing Height (NFDH):\n",
    "    Next-Fit Decreasing Height (NFDH) est un algorithme utilisé pour optimiser l'arrangement d'objets dans un espace limité, en les triant d'abord par hauteur décroissante, puis en les plaçant l'un après l'autre jusqu'à ce que l'espace soit plein, avant de passer à un nouvel espace si nécessaire.  \n",
    "\n",
    "• Best-Fit (BF):\n",
    "    Best-Fit en 2D est un algorithme de placement qui, pour un objet donné, cherche l'espace 2D le plus petit pouvant l'accueillir parmi les espaces disponibles, afin de minimiser l'espace inutilisé.\n",
    "\n",
    "• First-Fit Decreasing Height (FFDH):\n",
    "    First-Fit Decreasing Height (FFDH) est un algorithme qui trie d'abord les objets par hauteur décroissante, puis les place dans le premier espace disponible suffisamment grand, optimisant ainsi l'utilisation de l'espace.\n",
    "   \n"
   ]
  }
 ],
 "metadata": {
  "language_info": {
   "name": "python"
  }
 },
 "nbformat": 4,
 "nbformat_minor": 2
}
